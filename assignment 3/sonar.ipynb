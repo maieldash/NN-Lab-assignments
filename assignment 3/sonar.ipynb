{
 "cells": [
  {
   "cell_type": "code",
   "execution_count": 1,
   "metadata": {},
   "outputs": [
    {
     "name": "stderr",
     "output_type": "stream",
     "text": [
      "C:\\ProgramData\\Anaconda3\\lib\\site-packages\\sklearn\\cross_validation.py:41: DeprecationWarning: This module was deprecated in version 0.18 in favor of the model_selection module into which all the refactored classes and functions are moved. Also note that the interface of the new CV iterators are different from that of this module. This module will be removed in 0.20.\n",
      "  \"This module will be removed in 0.20.\", DeprecationWarning)\n"
     ]
    }
   ],
   "source": [
    "import matplotlib.pyplot as plt\n",
    "from sklearn import preprocessing\n",
    "import random\n",
    "import numpy as np\n",
    "import pandas as pd\n",
    "from sklearn import datasets, svm, cross_validation, tree, preprocessing, metrics\n",
    "import sklearn.ensemble as ske"
   ]
  },
  {
   "cell_type": "code",
   "execution_count": 2,
   "metadata": {},
   "outputs": [],
   "source": [
    "sonar= pd.read_csv(\"E:/FCI/year 4/second term/NN/labs/lab5/sonar.csv\")"
   ]
  },
  {
   "cell_type": "code",
   "execution_count": 3,
   "metadata": {},
   "outputs": [
    {
     "name": "stdout",
     "output_type": "stream",
     "text": [
      "   0.0200  0.0371  0.0428  0.0207  0.0954  0.0986  0.1539  0.1601  0.3109  \\\n",
      "0  0.0453  0.0523  0.0843  0.0689  0.1183  0.2583  0.2156  0.3481  0.3337   \n",
      "1  0.0262  0.0582  0.1099  0.1083  0.0974  0.2280  0.2431  0.3771  0.5598   \n",
      "2  0.0100  0.0171  0.0623  0.0205  0.0205  0.0368  0.1098  0.1276  0.0598   \n",
      "3  0.0762  0.0666  0.0481  0.0394  0.0590  0.0649  0.1209  0.2467  0.3564   \n",
      "4  0.0286  0.0453  0.0277  0.0174  0.0384  0.0990  0.1201  0.1833  0.2105   \n",
      "\n",
      "   0.2111 ...  0.0027  0.0065  0.0159  0.0072  0.0167  0.0180  0.0084  0.0090  \\\n",
      "0  0.2872 ...  0.0084  0.0089  0.0048  0.0094  0.0191  0.0140  0.0049  0.0052   \n",
      "1  0.6194 ...  0.0232  0.0166  0.0095  0.0180  0.0244  0.0316  0.0164  0.0095   \n",
      "2  0.1264 ...  0.0121  0.0036  0.0150  0.0085  0.0073  0.0050  0.0044  0.0040   \n",
      "3  0.4459 ...  0.0031  0.0054  0.0105  0.0110  0.0015  0.0072  0.0048  0.0107   \n",
      "4  0.3039 ...  0.0045  0.0014  0.0038  0.0013  0.0089  0.0057  0.0027  0.0051   \n",
      "\n",
      "   0.0032  R  \n",
      "0  0.0044  R  \n",
      "1  0.0078  R  \n",
      "2  0.0117  R  \n",
      "3  0.0094  R  \n",
      "4  0.0062  R  \n",
      "\n",
      "[5 rows x 61 columns]\n"
     ]
    }
   ],
   "source": [
    "print(sonar.head())"
   ]
  },
  {
   "cell_type": "code",
   "execution_count": 4,
   "metadata": {},
   "outputs": [],
   "source": [
    "def splitDataSet(df):\n",
    "    X = df.drop(df.columns[[60]], axis=1).values\n",
    "    Y = df[df.columns[[60]]].values\n",
    "    train_set_x_orig,test_set_x_orig ,train_set_y_orig,  test_set_y_orig = cross_validation.train_test_split(X,Y,test_size=0.2)\n",
    "    print(\"train set x dim= \"+str(train_set_x_orig.shape))\n",
    "    print(\"train set y dim= \"+str(train_set_y_orig.shape))\n",
    "    print(\"test set x dim= \"+str(test_set_x_orig.shape))\n",
    "    print(\"test set y dim= \"+str(test_set_y_orig.shape))\n",
    "    print(\"after transpose ...\")\n",
    "    print(\"train set x dim= \"+str(train_set_x_orig.T.shape))\n",
    "    print(\"train set y dim= \"+str(train_set_y_orig.shape))\n",
    "    print(\"test set x dim= \"+str(test_set_x_orig.T.shape))\n",
    "    print(\"test set y dim= \"+str(test_set_y_orig.shape))\n",
    "    return train_set_x_orig.T,test_set_x_orig.T ,train_set_y_orig,  test_set_y_orig"
   ]
  },
  {
   "cell_type": "code",
   "execution_count": 5,
   "metadata": {},
   "outputs": [
    {
     "name": "stdout",
     "output_type": "stream",
     "text": [
      "train set x dim= (165, 60)\n",
      "train set y dim= (165, 1)\n",
      "test set x dim= (42, 60)\n",
      "test set y dim= (42, 1)\n",
      "after transpose ...\n",
      "train set x dim= (60, 165)\n",
      "train set y dim= (165, 1)\n",
      "test set x dim= (60, 42)\n",
      "test set y dim= (42, 1)\n"
     ]
    }
   ],
   "source": [
    "train_set_x, test_set_x, train_set_y, test_set_y = splitDataSet(sonar)"
   ]
  },
  {
   "cell_type": "code",
   "execution_count": 6,
   "metadata": {},
   "outputs": [],
   "source": [
    "def initialize_with_zeros(dim):\n",
    "    \"\"\"\n",
    "    This function creates a vector of zeros of shape (dim, 1) for w and initializes b to 0.\n",
    "    \n",
    "    Argument:\n",
    "    dim -- number of parameters \n",
    "    \n",
    "    Returns:\n",
    "    w -- initialized vector of shape (dim, 1)\n",
    "    b -- initialized scalar (corresponds to the bias)\n",
    "    \"\"\"\n",
    "    \n",
    "    w1 = np.zeros((dim, 1))\n",
    "    b1 = 0.0\n",
    "    w2 = np.zeros((dim, 1))\n",
    "    b2 = 0.0\n",
    "    return w1,w1, b1,b2"
   ]
  },
  {
   "cell_type": "code",
   "execution_count": 7,
   "metadata": {},
   "outputs": [],
   "source": [
    "def Tanh(x):\n",
    "   t = ( np.exp(x)-np.exp(-x))/(np.exp(x)+np.exp(-x))\n",
    "   return t"
   ]
  },
  {
   "cell_type": "code",
   "execution_count": 8,
   "metadata": {},
   "outputs": [],
   "source": [
    "def sigmoid(input):\n",
    "    \"\"\"\n",
    "    Compute the sigmoid of input\n",
    "\n",
    "    Arguments:\n",
    "    input -- A scalar or numpy array of any size.\n",
    "\n",
    "    Return:\n",
    "    s -- sigmoid(input)\n",
    "    \"\"\"\n",
    "\n",
    "    s = 1/(1 + np.exp(-input))\n",
    "    \n",
    "    return s"
   ]
  },
  {
   "cell_type": "code",
   "execution_count": 10,
   "metadata": {},
   "outputs": [],
   "source": [
    "# GRADED FUNCTION: propagate\n",
    "\n",
    "def propagate(w1, w2, b1, b2, X, Y):\n",
    "    \"\"\"\n",
    "    Implement the cost function and its gradient \n",
    "\n",
    "    Arguments:\n",
    "    w -- weights, a numpy array of size (num_Critirea, 1)\n",
    "    b -- bias, a scalar\n",
    "    X -- data of size (num_Critirea, number of examples)\n",
    "    Y -- true \"label\" vector (containing 0 if non-cat, 1 if cat) of size (1, number of examples)\n",
    "\n",
    "    Return:\n",
    "    cost -- negative log-likelihood cost for logistic regression\n",
    "    dw -- gradient of the loss with respect to w, thus same shape as w\n",
    "    db -- gradient of the loss with respect to b, thus same shape as b\n",
    "    \n",
    "    \"\"\"\n",
    "    \n",
    "    m = X.shape[1]\n",
    "    \n",
    "    # FORWARD PROPAGATION \n",
    "    z1=np.dot(w1.T, X) + b1\n",
    "    \n",
    "    A1 =Tanh(z1) \n",
    "    \n",
    "    z2=np.dot(w2.T, A1) + b2\n",
    "    \n",
    "    A =sigmoid(z2) \n",
    "                \n",
    "                \n",
    "    # compute activation\n",
    "    cost = - 1/m * np.sum((Y * np.log(A) + (1 - Y) * np.log(1 - A)))          # compute cost\n",
    "    \n",
    "    \n",
    "    # BACKWARD PROPAGATION (TO FIND GRAD)\n",
    "    dz2=A-Y\n",
    "    \n",
    "    dw2= 1/m * np.dot(dz2, A1.T)\n",
    "    \n",
    "    db2= 1/m * np.sum(dz2,axis=1,keepdims=True)\n",
    "    \n",
    "    dz1=np.dot(w2.T,dz2)*np.dot(A1,z1)\n",
    "    \n",
    "    dw1 = 1/m * np.dot(dz1, X.T)\n",
    "    \n",
    "    db1 =1/m * np.sum(dz1,axis=1,keepdims=True)\n",
    "    \n",
    "    \n",
    "    grads = {\"dw1\": dw1,\n",
    "             \"db1\": db1,\n",
    "             \"dz1\": dz1,\n",
    "             \"dw2\": dw2,\n",
    "             \"dz2\": dz2,\n",
    "             \"db2\": db2}\n",
    "    \n",
    "    return grads, cost"
   ]
  },
  {
   "cell_type": "code",
   "execution_count": null,
   "metadata": {},
   "outputs": [],
   "source": []
  }
 ],
 "metadata": {
  "kernelspec": {
   "display_name": "Python 3",
   "language": "python",
   "name": "python3"
  },
  "language_info": {
   "codemirror_mode": {
    "name": "ipython",
    "version": 3
   },
   "file_extension": ".py",
   "mimetype": "text/x-python",
   "name": "python",
   "nbconvert_exporter": "python",
   "pygments_lexer": "ipython3",
   "version": "3.6.4"
  }
 },
 "nbformat": 4,
 "nbformat_minor": 2
}
